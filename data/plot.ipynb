{
 "cells": [
  {
   "cell_type": "code",
   "execution_count": null,
   "metadata": {},
   "outputs": [],
   "source": [
    "%pip install seaborn"
   ]
  },
  {
   "cell_type": "code",
   "execution_count": null,
   "metadata": {},
   "outputs": [],
   "source": [
    "import seaborn as sns\n",
    "import pandas as pd\n",
    "from glob import glob"
   ]
  },
  {
   "cell_type": "code",
   "execution_count": null,
   "metadata": {},
   "outputs": [],
   "source": [
    "latency_names = [\n",
    "    'Number of Nodes', 'Node of Faulty Nodes', 'Protocol', 'Chunk Size', 'K', \n",
    "    'Number of Packet / Node / Block', 'Number of Correct Packets',\n",
    "    'Mesh Degree', 'Placement Group Size', 'Operation', 'Latency (us)']\n",
    "latency_data = pd.concat([\n",
    "    pd.read_csv(rows, names=latency_names) for rows in glob('saved/latency-*.csv')\n",
    "], ignore_index=True)\n",
    "latency_data['Latency (s)'] = latency_data['Latency (us)'] / 1_000_000\n",
    "latency_data"
   ]
  },
  {
   "cell_type": "code",
   "execution_count": null,
   "metadata": {},
   "outputs": [],
   "source": [
    "f_latency = sns.catplot(\n",
    "    data=latency_data,\n",
    "    kind='bar',\n",
    "    x='Protocol', y='Latency (s)',\n",
    "    order=['Entropy', 'Glacier', 'Replication'],\n",
    "    hue='Operation',\n",
    "    hue_order=['put', 'get'],\n",
    ")\n",
    "f_latency.set_xticklabels(['Entropy', 'Glacier @ 100', 'Replica @ 100'])"
   ]
  }
 ],
 "metadata": {
  "kernelspec": {
   "display_name": ".venv",
   "language": "python",
   "name": "python3"
  },
  "language_info": {
   "codemirror_mode": {
    "name": "ipython",
    "version": 3
   },
   "file_extension": ".py",
   "mimetype": "text/x-python",
   "name": "python",
   "nbconvert_exporter": "python",
   "pygments_lexer": "ipython3",
   "version": "3.12.3"
  }
 },
 "nbformat": 4,
 "nbformat_minor": 2
}
